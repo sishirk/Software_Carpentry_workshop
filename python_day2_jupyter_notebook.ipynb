{
 "cells": [
  {
   "cell_type": "code",
   "execution_count": 6,
   "metadata": {
    "collapsed": false
   },
   "outputs": [],
   "source": [
    "def celsius_fahrenheit():\n",
    "    #F=(C*9/5)+32\n",
    "    fahrenheit=(22*(9/5))+32\n",
    "    print (fahrenheit)\n",
    "    return fahrenheit"
   ]
  },
  {
   "cell_type": "code",
   "execution_count": 9,
   "metadata": {
    "collapsed": false
   },
   "outputs": [
    {
     "name": "stdout",
     "output_type": "stream",
     "text": [
      "71.6\n"
     ]
    },
    {
     "data": {
      "text/plain": [
       "71.6"
      ]
     },
     "execution_count": 9,
     "metadata": {},
     "output_type": "execute_result"
    }
   ],
   "source": [
    "celsius_fahrenheit()\n"
   ]
  },
  {
   "cell_type": "code",
   "execution_count": 10,
   "metadata": {
    "collapsed": true
   },
   "outputs": [],
   "source": [
    "def celsius_fahrenheit(C):\n",
    "    #F=(C*9/5)+32\n",
    "    fahrenheit=(C*(9/5))+32\n",
    "    print (fahrenheit)\n",
    "    return fahrenheit"
   ]
  },
  {
   "cell_type": "code",
   "execution_count": 12,
   "metadata": {
    "collapsed": false
   },
   "outputs": [
    {
     "ename": "TypeError",
     "evalue": "celsius_fahrenheit() missing 1 required positional argument: 'C'",
     "output_type": "error",
     "traceback": [
      "\u001b[0;31m---------------------------------------------------------------------------\u001b[0m",
      "\u001b[0;31mTypeError\u001b[0m                                 Traceback (most recent call last)",
      "\u001b[0;32m<ipython-input-12-b76cf3b6336a>\u001b[0m in \u001b[0;36m<module>\u001b[0;34m()\u001b[0m\n\u001b[0;32m----> 1\u001b[0;31m \u001b[0mcelsius_fahrenheit\u001b[0m\u001b[1;33m(\u001b[0m\u001b[1;33m)\u001b[0m\u001b[1;33m\u001b[0m\u001b[0m\n\u001b[0m",
      "\u001b[0;31mTypeError\u001b[0m: celsius_fahrenheit() missing 1 required positional argument: 'C'"
     ]
    }
   ],
   "source": [
    "celsius_fahrenheit()"
   ]
  },
  {
   "cell_type": "code",
   "execution_count": 13,
   "metadata": {
    "collapsed": false
   },
   "outputs": [
    {
     "name": "stdout",
     "output_type": "stream",
     "text": [
      "86.0\n"
     ]
    },
    {
     "data": {
      "text/plain": [
       "86.0"
      ]
     },
     "execution_count": 13,
     "metadata": {},
     "output_type": "execute_result"
    }
   ],
   "source": [
    "celsius_fahrenheit(30)"
   ]
  },
  {
   "cell_type": "code",
   "execution_count": 14,
   "metadata": {
    "collapsed": false
   },
   "outputs": [
    {
     "ename": "TypeError",
     "evalue": "celsius_fahrenheit() got an unexpected keyword argument 'c'",
     "output_type": "error",
     "traceback": [
      "\u001b[0;31m---------------------------------------------------------------------------\u001b[0m",
      "\u001b[0;31mTypeError\u001b[0m                                 Traceback (most recent call last)",
      "\u001b[0;32m<ipython-input-14-79c29ee6f1c5>\u001b[0m in \u001b[0;36m<module>\u001b[0;34m()\u001b[0m\n\u001b[0;32m----> 1\u001b[0;31m \u001b[0mcelsius_fahrenheit\u001b[0m\u001b[1;33m(\u001b[0m\u001b[0mc\u001b[0m\u001b[1;33m=\u001b[0m\u001b[1;36m30\u001b[0m\u001b[1;33m)\u001b[0m\u001b[1;33m\u001b[0m\u001b[0m\n\u001b[0m",
      "\u001b[0;31mTypeError\u001b[0m: celsius_fahrenheit() got an unexpected keyword argument 'c'"
     ]
    }
   ],
   "source": [
    "celsius_fahrenheit(c=30)"
   ]
  },
  {
   "cell_type": "code",
   "execution_count": 15,
   "metadata": {
    "collapsed": false
   },
   "outputs": [
    {
     "name": "stdout",
     "output_type": "stream",
     "text": [
      "86.0\n"
     ]
    },
    {
     "data": {
      "text/plain": [
       "86.0"
      ]
     },
     "execution_count": 15,
     "metadata": {},
     "output_type": "execute_result"
    }
   ],
   "source": [
    "celsius_fahrenheit(C=30)"
   ]
  },
  {
   "cell_type": "code",
   "execution_count": 17,
   "metadata": {
    "collapsed": false
   },
   "outputs": [],
   "source": [
    "#C=(F-32)*(5/9)\n",
    "def fahrenheit_celsius(F):\n",
    "    celsius=(F-32)*(5/9)\n",
    "    print (celsius)\n",
    "    return celsius"
   ]
  },
  {
   "cell_type": "code",
   "execution_count": 19,
   "metadata": {
    "collapsed": false
   },
   "outputs": [
    {
     "name": "stdout",
     "output_type": "stream",
     "text": [
      "37.77777777777778\n"
     ]
    },
    {
     "data": {
      "text/plain": [
       "37.77777777777778"
      ]
     },
     "execution_count": 19,
     "metadata": {},
     "output_type": "execute_result"
    }
   ],
   "source": [
    "fahrenheit_celsius(F=100)"
   ]
  },
  {
   "cell_type": "code",
   "execution_count": 20,
   "metadata": {
    "collapsed": true
   },
   "outputs": [],
   "source": [
    "import pandas as pd"
   ]
  },
  {
   "cell_type": "code",
   "execution_count": 21,
   "metadata": {
    "collapsed": true
   },
   "outputs": [],
   "source": [
    "dem_health_data = pd.read_csv(\"Dem_Health_Full.txt\",sep=\"\\t\")"
   ]
  },
  {
   "cell_type": "code",
   "execution_count": 24,
   "metadata": {
    "collapsed": false
   },
   "outputs": [
    {
     "data": {
      "text/html": [
       "<div>\n",
       "<table border=\"1\" class=\"dataframe\">\n",
       "  <thead>\n",
       "    <tr style=\"text-align: right;\">\n",
       "      <th></th>\n",
       "      <th>County</th>\n",
       "      <th>State</th>\n",
       "      <th>Population_Density</th>\n",
       "      <th>Poverty</th>\n",
       "      <th>Infant_Mortality</th>\n",
       "      <th>Suicide</th>\n",
       "      <th>Total_Births</th>\n",
       "      <th>Total_Deaths</th>\n",
       "    </tr>\n",
       "  </thead>\n",
       "  <tbody>\n",
       "    <tr>\n",
       "      <th>0</th>\n",
       "      <td>Autauga</td>\n",
       "      <td>AL</td>\n",
       "      <td>82</td>\n",
       "      <td>10.4</td>\n",
       "      <td>5.9</td>\n",
       "      <td>16.6</td>\n",
       "      <td>3048.0</td>\n",
       "      <td>1867.0</td>\n",
       "    </tr>\n",
       "    <tr>\n",
       "      <th>1</th>\n",
       "      <td>Baldwin</td>\n",
       "      <td>AL</td>\n",
       "      <td>102</td>\n",
       "      <td>10.2</td>\n",
       "      <td>7.1</td>\n",
       "      <td>14.3</td>\n",
       "      <td>5471.0</td>\n",
       "      <td>4388.0</td>\n",
       "    </tr>\n",
       "    <tr>\n",
       "      <th>2</th>\n",
       "      <td>Barbour</td>\n",
       "      <td>AL</td>\n",
       "      <td>32</td>\n",
       "      <td>22.1</td>\n",
       "      <td>7.1</td>\n",
       "      <td>10.3</td>\n",
       "      <td>1835.0</td>\n",
       "      <td>1538.0</td>\n",
       "    </tr>\n",
       "    <tr>\n",
       "      <th>3</th>\n",
       "      <td>Bibb</td>\n",
       "      <td>AL</td>\n",
       "      <td>35</td>\n",
       "      <td>16.8</td>\n",
       "      <td>9.8</td>\n",
       "      <td>14.8</td>\n",
       "      <td>2801.0</td>\n",
       "      <td>2012.0</td>\n",
       "    </tr>\n",
       "    <tr>\n",
       "      <th>4</th>\n",
       "      <td>Blount</td>\n",
       "      <td>AL</td>\n",
       "      <td>86</td>\n",
       "      <td>11.9</td>\n",
       "      <td>9.0</td>\n",
       "      <td>14.4</td>\n",
       "      <td>3318.0</td>\n",
       "      <td>2453.0</td>\n",
       "    </tr>\n",
       "    <tr>\n",
       "      <th>5</th>\n",
       "      <td>Bullock</td>\n",
       "      <td>AL</td>\n",
       "      <td>18</td>\n",
       "      <td>26.2</td>\n",
       "      <td>13.3</td>\n",
       "      <td>-1111.1</td>\n",
       "      <td>1604.0</td>\n",
       "      <td>1381.0</td>\n",
       "    </tr>\n",
       "    <tr>\n",
       "      <th>6</th>\n",
       "      <td>Butler</td>\n",
       "      <td>AL</td>\n",
       "      <td>27</td>\n",
       "      <td>20.0</td>\n",
       "      <td>5.8</td>\n",
       "      <td>11.9</td>\n",
       "      <td>2874.0</td>\n",
       "      <td>2857.0</td>\n",
       "    </tr>\n",
       "    <tr>\n",
       "      <th>7</th>\n",
       "      <td>Calhoun</td>\n",
       "      <td>AL</td>\n",
       "      <td>184</td>\n",
       "      <td>16.4</td>\n",
       "      <td>9.5</td>\n",
       "      <td>13.6</td>\n",
       "      <td>4429.0</td>\n",
       "      <td>3915.0</td>\n",
       "    </tr>\n",
       "    <tr>\n",
       "      <th>8</th>\n",
       "      <td>Chambers</td>\n",
       "      <td>AL</td>\n",
       "      <td>59</td>\n",
       "      <td>16.2</td>\n",
       "      <td>7.5</td>\n",
       "      <td>12.8</td>\n",
       "      <td>2271.0</td>\n",
       "      <td>2424.0</td>\n",
       "    </tr>\n",
       "    <tr>\n",
       "      <th>9</th>\n",
       "      <td>Cherokee</td>\n",
       "      <td>AL</td>\n",
       "      <td>44</td>\n",
       "      <td>15.2</td>\n",
       "      <td>7.4</td>\n",
       "      <td>17.7</td>\n",
       "      <td>2659.0</td>\n",
       "      <td>2609.0</td>\n",
       "    </tr>\n",
       "    <tr>\n",
       "      <th>10</th>\n",
       "      <td>Chilton</td>\n",
       "      <td>AL</td>\n",
       "      <td>60</td>\n",
       "      <td>14.9</td>\n",
       "      <td>10.5</td>\n",
       "      <td>13.3</td>\n",
       "      <td>2671.0</td>\n",
       "      <td>2065.0</td>\n",
       "    </tr>\n",
       "    <tr>\n",
       "      <th>11</th>\n",
       "      <td>Choctaw</td>\n",
       "      <td>AL</td>\n",
       "      <td>16</td>\n",
       "      <td>18.7</td>\n",
       "      <td>10.8</td>\n",
       "      <td>9.4</td>\n",
       "      <td>2152.0</td>\n",
       "      <td>1742.0</td>\n",
       "    </tr>\n",
       "    <tr>\n",
       "      <th>12</th>\n",
       "      <td>Clarke</td>\n",
       "      <td>AL</td>\n",
       "      <td>22</td>\n",
       "      <td>19.2</td>\n",
       "      <td>7.1</td>\n",
       "      <td>8.9</td>\n",
       "      <td>1984.0</td>\n",
       "      <td>1444.0</td>\n",
       "    </tr>\n",
       "    <tr>\n",
       "      <th>13</th>\n",
       "      <td>Clay</td>\n",
       "      <td>AL</td>\n",
       "      <td>23</td>\n",
       "      <td>14.0</td>\n",
       "      <td>10.2</td>\n",
       "      <td>11.2</td>\n",
       "      <td>1748.0</td>\n",
       "      <td>1706.0</td>\n",
       "    </tr>\n",
       "    <tr>\n",
       "      <th>14</th>\n",
       "      <td>Cleburne</td>\n",
       "      <td>AL</td>\n",
       "      <td>26</td>\n",
       "      <td>14.0</td>\n",
       "      <td>7.0</td>\n",
       "      <td>30.1</td>\n",
       "      <td>1706.0</td>\n",
       "      <td>1540.0</td>\n",
       "    </tr>\n",
       "    <tr>\n",
       "      <th>15</th>\n",
       "      <td>Coffee</td>\n",
       "      <td>AL</td>\n",
       "      <td>67</td>\n",
       "      <td>13.7</td>\n",
       "      <td>2.9</td>\n",
       "      <td>13.1</td>\n",
       "      <td>2762.0</td>\n",
       "      <td>2210.0</td>\n",
       "    </tr>\n",
       "    <tr>\n",
       "      <th>16</th>\n",
       "      <td>Colbert</td>\n",
       "      <td>AL</td>\n",
       "      <td>92</td>\n",
       "      <td>14.0</td>\n",
       "      <td>8.2</td>\n",
       "      <td>15.1</td>\n",
       "      <td>3166.0</td>\n",
       "      <td>3087.0</td>\n",
       "    </tr>\n",
       "    <tr>\n",
       "      <th>17</th>\n",
       "      <td>Conecuh</td>\n",
       "      <td>AL</td>\n",
       "      <td>16</td>\n",
       "      <td>22.0</td>\n",
       "      <td>14.4</td>\n",
       "      <td>13.2</td>\n",
       "      <td>1872.0</td>\n",
       "      <td>1832.0</td>\n",
       "    </tr>\n",
       "    <tr>\n",
       "      <th>18</th>\n",
       "      <td>Coosa</td>\n",
       "      <td>AL</td>\n",
       "      <td>17</td>\n",
       "      <td>13.4</td>\n",
       "      <td>13.9</td>\n",
       "      <td>-1111.1</td>\n",
       "      <td>1273.0</td>\n",
       "      <td>1174.0</td>\n",
       "    </tr>\n",
       "    <tr>\n",
       "      <th>19</th>\n",
       "      <td>Covington</td>\n",
       "      <td>AL</td>\n",
       "      <td>36</td>\n",
       "      <td>17.5</td>\n",
       "      <td>6.2</td>\n",
       "      <td>10.7</td>\n",
       "      <td>2247.0</td>\n",
       "      <td>2499.0</td>\n",
       "    </tr>\n",
       "  </tbody>\n",
       "</table>\n",
       "</div>"
      ],
      "text/plain": [
       "       County State  Population_Density  Poverty  Infant_Mortality  Suicide  \\\n",
       "0     Autauga    AL                  82     10.4               5.9     16.6   \n",
       "1     Baldwin    AL                 102     10.2               7.1     14.3   \n",
       "2     Barbour    AL                  32     22.1               7.1     10.3   \n",
       "3        Bibb    AL                  35     16.8               9.8     14.8   \n",
       "4      Blount    AL                  86     11.9               9.0     14.4   \n",
       "5     Bullock    AL                  18     26.2              13.3  -1111.1   \n",
       "6      Butler    AL                  27     20.0               5.8     11.9   \n",
       "7     Calhoun    AL                 184     16.4               9.5     13.6   \n",
       "8    Chambers    AL                  59     16.2               7.5     12.8   \n",
       "9    Cherokee    AL                  44     15.2               7.4     17.7   \n",
       "10    Chilton    AL                  60     14.9              10.5     13.3   \n",
       "11    Choctaw    AL                  16     18.7              10.8      9.4   \n",
       "12     Clarke    AL                  22     19.2               7.1      8.9   \n",
       "13       Clay    AL                  23     14.0              10.2     11.2   \n",
       "14   Cleburne    AL                  26     14.0               7.0     30.1   \n",
       "15     Coffee    AL                  67     13.7               2.9     13.1   \n",
       "16    Colbert    AL                  92     14.0               8.2     15.1   \n",
       "17    Conecuh    AL                  16     22.0              14.4     13.2   \n",
       "18      Coosa    AL                  17     13.4              13.9  -1111.1   \n",
       "19  Covington    AL                  36     17.5               6.2     10.7   \n",
       "\n",
       "    Total_Births  Total_Deaths  \n",
       "0         3048.0        1867.0  \n",
       "1         5471.0        4388.0  \n",
       "2         1835.0        1538.0  \n",
       "3         2801.0        2012.0  \n",
       "4         3318.0        2453.0  \n",
       "5         1604.0        1381.0  \n",
       "6         2874.0        2857.0  \n",
       "7         4429.0        3915.0  \n",
       "8         2271.0        2424.0  \n",
       "9         2659.0        2609.0  \n",
       "10        2671.0        2065.0  \n",
       "11        2152.0        1742.0  \n",
       "12        1984.0        1444.0  \n",
       "13        1748.0        1706.0  \n",
       "14        1706.0        1540.0  \n",
       "15        2762.0        2210.0  \n",
       "16        3166.0        3087.0  \n",
       "17        1872.0        1832.0  \n",
       "18        1273.0        1174.0  \n",
       "19        2247.0        2499.0  "
      ]
     },
     "execution_count": 24,
     "metadata": {},
     "output_type": "execute_result"
    }
   ],
   "source": [
    "dem_health_data.head(20)"
   ]
  },
  {
   "cell_type": "code",
   "execution_count": 30,
   "metadata": {
    "collapsed": true
   },
   "outputs": [],
   "source": [
    "def get_urban(df,threshold):\n",
    "    urban = df.loc[df['Population_Density']>=threshold,:]\n",
    "    return urban"
   ]
  },
  {
   "cell_type": "code",
   "execution_count": 32,
   "metadata": {
    "collapsed": false
   },
   "outputs": [],
   "source": [
    "urban_counties= get_urban(dem_health_data,500)"
   ]
  },
  {
   "cell_type": "code",
   "execution_count": 33,
   "metadata": {
    "collapsed": false
   },
   "outputs": [
    {
     "data": {
      "text/html": [
       "<div>\n",
       "<table border=\"1\" class=\"dataframe\">\n",
       "  <thead>\n",
       "    <tr style=\"text-align: right;\">\n",
       "      <th></th>\n",
       "      <th>County</th>\n",
       "      <th>State</th>\n",
       "      <th>Population_Density</th>\n",
       "      <th>Poverty</th>\n",
       "      <th>Infant_Mortality</th>\n",
       "      <th>Suicide</th>\n",
       "      <th>Total_Births</th>\n",
       "      <th>Total_Deaths</th>\n",
       "    </tr>\n",
       "  </thead>\n",
       "  <tbody>\n",
       "    <tr>\n",
       "      <th>36</th>\n",
       "      <td>Jefferson</td>\n",
       "      <td>AL</td>\n",
       "      <td>591</td>\n",
       "      <td>14.4</td>\n",
       "      <td>11.3</td>\n",
       "      <td>11.3</td>\n",
       "      <td>27118.0</td>\n",
       "      <td>21937.0</td>\n",
       "    </tr>\n",
       "    <tr>\n",
       "      <th>184</th>\n",
       "      <td>Alameda</td>\n",
       "      <td>CA</td>\n",
       "      <td>1964</td>\n",
       "      <td>10.7</td>\n",
       "      <td>4.8</td>\n",
       "      <td>7.6</td>\n",
       "      <td>65423.0</td>\n",
       "      <td>29143.0</td>\n",
       "    </tr>\n",
       "    <tr>\n",
       "      <th>190</th>\n",
       "      <td>Contra Costa</td>\n",
       "      <td>CA</td>\n",
       "      <td>1414</td>\n",
       "      <td>7.5</td>\n",
       "      <td>4.0</td>\n",
       "      <td>9.4</td>\n",
       "      <td>39653.0</td>\n",
       "      <td>20836.0</td>\n",
       "    </tr>\n",
       "    <tr>\n",
       "      <th>202</th>\n",
       "      <td>Los Angeles</td>\n",
       "      <td>CA</td>\n",
       "      <td>2447</td>\n",
       "      <td>17.7</td>\n",
       "      <td>5.4</td>\n",
       "      <td>7.9</td>\n",
       "      <td>457033.0</td>\n",
       "      <td>181018.0</td>\n",
       "    </tr>\n",
       "    <tr>\n",
       "      <th>213</th>\n",
       "      <td>Orange</td>\n",
       "      <td>CA</td>\n",
       "      <td>3785</td>\n",
       "      <td>10.6</td>\n",
       "      <td>4.7</td>\n",
       "      <td>7.6</td>\n",
       "      <td>135702.0</td>\n",
       "      <td>51060.0</td>\n",
       "    </tr>\n",
       "  </tbody>\n",
       "</table>\n",
       "</div>"
      ],
      "text/plain": [
       "           County State  Population_Density  Poverty  Infant_Mortality  \\\n",
       "36      Jefferson    AL                 591     14.4              11.3   \n",
       "184       Alameda    CA                1964     10.7               4.8   \n",
       "190  Contra Costa    CA                1414      7.5               4.0   \n",
       "202   Los Angeles    CA                2447     17.7               5.4   \n",
       "213        Orange    CA                3785     10.6               4.7   \n",
       "\n",
       "     Suicide  Total_Births  Total_Deaths  \n",
       "36      11.3       27118.0       21937.0  \n",
       "184      7.6       65423.0       29143.0  \n",
       "190      9.4       39653.0       20836.0  \n",
       "202      7.9      457033.0      181018.0  \n",
       "213      7.6      135702.0       51060.0  "
      ]
     },
     "execution_count": 33,
     "metadata": {},
     "output_type": "execute_result"
    }
   ],
   "source": [
    "urban_counties.head()"
   ]
  },
  {
   "cell_type": "code",
   "execution_count": 41,
   "metadata": {
    "collapsed": true
   },
   "outputs": [],
   "source": [
    "def split_county_by_pop(df,threshold):\n",
    "    urban=df.loc[df['Population_Density']>= threshold,:]\n",
    "    rural=df.loc[df['Population_Density']< threshold,:]\n",
    "    return [urban, rural]\n",
    "    "
   ]
  },
  {
   "cell_type": "code",
   "execution_count": 42,
   "metadata": {
    "collapsed": false
   },
   "outputs": [],
   "source": [
    "urban_rural_counties= \\\n",
    "split_county_by_pop(dem_health_data, 500)"
   ]
  },
  {
   "cell_type": "code",
   "execution_count": 47,
   "metadata": {
    "collapsed": false
   },
   "outputs": [
    {
     "data": {
      "text/plain": [
       "[                   County State  Population_Density  Poverty  \\\n",
       " 36              Jefferson    AL                 591     14.4   \n",
       " 184               Alameda    CA                1964     10.7   \n",
       " 190          Contra Costa    CA                1414      7.5   \n",
       " 202           Los Angeles    CA                2447     17.7   \n",
       " 213                Orange    CA                3785     10.6   \n",
       " 217            Sacramento    CA                1412     13.7   \n",
       " 220             San Diego    CA                 698     11.6   \n",
       " 221         San Francisco    CA               15837     12.0   \n",
       " 224             San Mateo    CA                1558      6.8   \n",
       " 226           Santa Clara    CA                1316      8.8   \n",
       " 227            Santa Cruz    CA                 561     11.3   \n",
       " 244              Arapahoe    CO                 659      7.9   \n",
       " 258                Denver    CO                3638     15.1   \n",
       " 272             Jefferson    CO                 682      6.8   \n",
       " 306             Fairfield    CT                1443      7.3   \n",
       " 307              Hartford    CT                1193      9.2   \n",
       " 310             New Haven    CT                1398      9.4   \n",
       " 315            New Castle    DE                1227      8.2   \n",
       " 317            Washington    DC                8966     17.5   \n",
       " 322               Brevard    FL                 522     10.1   \n",
       " 323               Broward    FL                1475     12.5   \n",
       " 332                 Duval    FL                1068     12.8   \n",
       " 345          Hillsborough    FL                1077     13.0   \n",
       " 352                   Lee    FL                 678     10.2   \n",
       " 360            Miami-Dade    FL                1221     18.9   \n",
       " 365                Orange    FL                1127     13.2   \n",
       " 367            Palm Beach    FL                 643     10.9   \n",
       " 368                 Pasco    FL                 576     11.9   \n",
       " 369              Pinellas    FL                3315     12.1   \n",
       " 375              Sarasota    FL                 641      8.4   \n",
       " ...                   ...   ...                 ...      ...   \n",
       " 2927           Galax City    VA                 811     17.9   \n",
       " 2928         Hampton City    VA                2811     13.1   \n",
       " 2929    Harrisonburg City    VA                2303     17.9   \n",
       " 2930        Hopewell City    VA                2216     16.4   \n",
       " 2931       Lexington City    VA                2721     16.1   \n",
       " 2932       Lynchburg City    VA                1356     17.5   \n",
       " 2933        Manassas City    VA                3783      7.5   \n",
       " 2934   Manassas Park City    VA                4667      6.5   \n",
       " 2935    Martinsville City    VA                1362     17.9   \n",
       " 2936    Newport News City    VA                2634     14.0   \n",
       " 2937         Norfolk City    VA                4317     19.8   \n",
       " 2939      Petersburg City    VA                1425     18.5   \n",
       " 2940        Poquoson City    VA                 761      4.8   \n",
       " 2941      Portsmouth City    VA                3021     16.5   \n",
       " 2942         Radford City    VA                1484     18.5   \n",
       " 2943        Richmond City    VA                3226     20.2   \n",
       " 2944         Roanoke City    VA                2160     16.9   \n",
       " 2945           Salem City    VA                1690      8.4   \n",
       " 2946        Staunton City    VA                1184     13.1   \n",
       " 2948  Virginia Beach City    VA                1766      8.0   \n",
       " 2949      Waynesboro City    VA                1385     13.1   \n",
       " 2950    Williamsburg City    VA                1376     17.5   \n",
       " 2951      Winchester City    VA                2692     12.0   \n",
       " 2957                Clark    WA                 643     10.5   \n",
       " 2968                 King    WA                 844      9.4   \n",
       " 2969               Kitsap    WA                 608      9.2   \n",
       " 3075              Kenosha    WI                 588      8.8   \n",
       " 3086            Milwaukee    WI                3815     16.2   \n",
       " 3097               Racine    WI                 588      9.3   \n",
       " 3113             Waukesha    WI                 682      4.1   \n",
       " \n",
       "       Infant_Mortality  Suicide  Total_Births  Total_Deaths  \n",
       " 36                11.3     11.3       27118.0       21937.0  \n",
       " 184                4.8      7.6       65423.0       29143.0  \n",
       " 190                4.0      9.4       39653.0       20836.0  \n",
       " 202                5.4      7.9      457033.0      181018.0  \n",
       " 213                4.7      7.6      135702.0       51060.0  \n",
       " 217                5.6     10.9       58592.0       28774.0  \n",
       " 220                4.9     10.5      133137.0       59354.0  \n",
       " 221                3.9     11.0       25255.0       18969.0  \n",
       " 224                4.1      7.1       30483.0       14256.0  \n",
       " 226                4.0      7.6       81257.0       26130.0  \n",
       " 227                4.0     13.0       10669.0        5098.0  \n",
       " 244                5.0     16.5       23114.0        8722.0  \n",
       " 258                6.7     14.2       34354.0       13530.0  \n",
       " 272                5.5     16.1       19626.0       10089.0  \n",
       " 306                5.3      6.3       36336.0       21011.0  \n",
       " 307                6.3      7.6       31212.0       23682.0  \n",
       " 310                6.8      7.6       30738.0       23078.0  \n",
       " 315                9.4     11.1       21109.0       12346.0  \n",
       " 317               10.9      6.0       22742.0       17375.0  \n",
       " 322                6.5     17.5       14613.0       16256.0  \n",
       " 323                6.5     13.3       67007.0       48248.0  \n",
       " 332               10.3     14.5       36661.0       20511.0  \n",
       " 345                8.7     12.6       45253.0       26268.0  \n",
       " 352                6.5     14.3       16382.0       16162.0  \n",
       " 360                5.9      9.1       97091.0       55624.0  \n",
       " 365                7.5      9.9       43304.0       19432.0  \n",
       " 367                7.4     12.5       42293.0       40726.0  \n",
       " 368                6.6     18.7       11773.0       16150.0  \n",
       " 369                7.6     16.3       27592.0       37641.0  \n",
       " 375                5.1     17.1        8618.0       14238.0  \n",
       " ...                ...      ...           ...           ...  \n",
       " 2927               5.3     19.5        1023.0        1212.0  \n",
       " 2928              11.6      8.5        5611.0        3410.0  \n",
       " 2929               5.9     10.4        2382.0        1298.0  \n",
       " 2930              10.5     14.4        3525.0        2654.0  \n",
       " 2931               NaN  -1111.1         558.0         767.0  \n",
       " 2932               9.2     11.0        4221.0        4057.0  \n",
       " 2933               4.5  -1111.1        3593.0         959.0  \n",
       " 2934               6.3  -1111.1        1915.0         347.0  \n",
       " 2935               2.4     19.9        1907.0        2598.0  \n",
       " 2936              11.7     10.1        9587.0        4220.0  \n",
       " 2937              11.0     12.6       12143.0        6226.0  \n",
       " 2939              12.6      9.1        2706.0        2471.0  \n",
       " 2940               6.5     12.8        1267.0         986.0  \n",
       " 2941              14.2     13.4        4726.0        3254.0  \n",
       " 2942               6.8     19.1        1317.0        1023.0  \n",
       " 2943              14.8     11.5        9287.0        6989.0  \n",
       " 2944              10.5     16.1        6456.0        6277.0  \n",
       " 2945               7.6     11.2        2528.0        3045.0  \n",
       " 2946               6.6     14.5        2527.0        2964.0  \n",
       " 2948               7.1      9.8       18786.0        7655.0  \n",
       " 2949               8.1     19.7        2731.0        2330.0  \n",
       " 2950              11.2     16.4        1192.0        1288.0  \n",
       " 2951               8.0     15.8        3336.0        2628.0  \n",
       " 2957               5.4     13.8       15927.0        7314.0  \n",
       " 2968               4.9     10.6       66179.0       34777.0  \n",
       " 2969               6.4     11.5        8916.0        5391.0  \n",
       " 3075               5.6     13.6        6381.0        3763.0  \n",
       " 3086              10.4     11.4       43885.0       26557.0  \n",
       " 3097              10.9     11.6        7676.0        4595.0  \n",
       " 3113               3.0      8.0       13001.0        8256.0  \n",
       " \n",
       " [235 rows x 8 columns]]"
      ]
     },
     "execution_count": 47,
     "metadata": {},
     "output_type": "execute_result"
    }
   ],
   "source": [
    "urban_rural_counties[0:1]"
   ]
  },
  {
   "cell_type": "code",
   "execution_count": null,
   "metadata": {
    "collapsed": true
   },
   "outputs": [],
   "source": []
  }
 ],
 "metadata": {
  "kernelspec": {
   "display_name": "Python 3",
   "language": "python",
   "name": "python3"
  },
  "language_info": {
   "codemirror_mode": {
    "name": "ipython",
    "version": 3
   },
   "file_extension": ".py",
   "mimetype": "text/x-python",
   "name": "python",
   "nbconvert_exporter": "python",
   "pygments_lexer": "ipython3",
   "version": "3.6.0"
  }
 },
 "nbformat": 4,
 "nbformat_minor": 2
}
